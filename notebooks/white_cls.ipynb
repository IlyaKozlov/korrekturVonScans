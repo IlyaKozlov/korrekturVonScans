{
 "cells": [
  {
   "cell_type": "code",
   "execution_count": 1,
   "metadata": {},
   "outputs": [
    {
     "data": {
      "text/plain": [
       "<Experiment: artifact_location='file:///home/padre/rojects/korrekturVonScans/notebooks/mlruns/388251539619712003', creation_time=1683209882173, experiment_id='388251539619712003', last_update_time=1683209882173, lifecycle_stage='active', name='white_color_classifier', tags={}>"
      ]
     },
     "execution_count": 1,
     "metadata": {},
     "output_type": "execute_result"
    }
   ],
   "source": [
    "import mlflow\n",
    "import time\n",
    "\n",
    "mlflow.set_experiment(experiment_name=\"white_color_classifier\")"
   ]
  },
  {
   "cell_type": "code",
   "execution_count": 2,
   "metadata": {
    "ExecuteTime": {
     "end_time": "2023-05-02T15:30:34.233501Z",
     "start_time": "2023-05-02T15:30:33.794108Z"
    }
   },
   "outputs": [],
   "source": [
    "\n",
    "import os\n",
    "import pickle\n",
    "\n",
    "from sklearn.model_selection import KFold\n",
    "from sklearn.metrics import roc_auc_score, accuracy_score\n",
    "from sklearn.pipeline import make_pipeline\n",
    "from sklearn.linear_model import LogisticRegression\n",
    "from sklearn.preprocessing import StandardScaler\n",
    "\n",
    "from color_corrector.image_features import image2features\n",
    "import json\n",
    "import numpy as np\n",
    "from PIL import Image\n",
    "from tqdm.notebook import tqdm"
   ]
  },
  {
   "cell_type": "code",
   "execution_count": 3,
   "metadata": {
    "ExecuteTime": {
     "end_time": "2023-05-02T15:30:34.241366Z",
     "start_time": "2023-05-02T15:30:34.236235Z"
    }
   },
   "outputs": [
    {
     "data": {
      "text/plain": [
       "'/home/padre/rojects/korrekturVonScans/resources/white_classifier.pkl.gz'"
      ]
     },
     "execution_count": 3,
     "metadata": {},
     "output_type": "execute_result"
    }
   ],
   "source": [
    "model_path = os.path.abspath(os.path.join(\".\", \"..\", \"resources\", \"white_classifier.pkl.gz\"))\n",
    "model_path"
   ]
  },
  {
   "cell_type": "code",
   "execution_count": 4,
   "metadata": {
    "ExecuteTime": {
     "end_time": "2023-05-02T15:30:34.290683Z",
     "start_time": "2023-05-02T15:30:34.241089Z"
    }
   },
   "outputs": [],
   "source": [
    "data_path = \"/home/padre/rojects/korrekturVonScans/datasets/color_corrections\"\n",
    "with open(os.path.join(data_path, \"labeled_tasks.json\")) as inp:\n",
    "    data: dict = json.load(inp)"
   ]
  },
  {
   "cell_type": "code",
   "execution_count": 5,
   "metadata": {
    "ExecuteTime": {
     "end_time": "2023-05-02T15:38:06.944586Z",
     "start_time": "2023-05-02T15:30:34.290511Z"
    }
   },
   "outputs": [
    {
     "data": {
      "application/vnd.jupyter.widget-view+json": {
       "model_id": "eb87352d53c74892923f509aebeb7948",
       "version_major": 2,
       "version_minor": 0
      },
      "text/plain": [
       "  0%|          | 0/8190 [00:00<?, ?it/s]"
      ]
     },
     "metadata": {},
     "output_type": "display_data"
    }
   ],
   "source": [
    "\n",
    "\n",
    "labels = []\n",
    "img_path = None\n",
    "\n",
    "X = None\n",
    "for i, value in enumerate(tqdm(sorted(data.values(), key=lambda v: v[\"original_image\"]))):\n",
    "    new_image_path = value[\"original_image\"]\n",
    "    if new_image_path != img_path:\n",
    "        img_path = new_image_path\n",
    "        image = Image.open(f\"{data_path}/{img_path}\")\n",
    "        img = image2features(image)\n",
    "    point_x = value[\"x\"]\n",
    "    point_y = value[\"y\"]\n",
    "    point = img[point_x, point_y, :]\n",
    "    if X is None:\n",
    "        X = np.empty((len(data), point.shape[0]))\n",
    "    X[i, :] = point\n",
    "    labels.append(value[\"labeled\"][0])\n",
    "\n",
    "X = np.array(X)\n",
    "labels = np.array(labels, dtype=object)"
   ]
  },
  {
   "cell_type": "code",
   "execution_count": 6,
   "metadata": {
    "ExecuteTime": {
     "end_time": "2023-05-02T15:38:06.958004Z",
     "start_time": "2023-05-02T15:38:06.949954Z"
    }
   },
   "outputs": [],
   "source": [
    "model = make_pipeline(StandardScaler(), LogisticRegression())"
   ]
  },
  {
   "cell_type": "code",
   "execution_count": 11,
   "metadata": {
    "ExecuteTime": {
     "end_time": "2023-05-02T15:38:07.755655Z",
     "start_time": "2023-05-02T15:38:06.955107Z"
    }
   },
   "outputs": [
    {
     "data": {
      "application/vnd.jupyter.widget-view+json": {
       "model_id": "434cbefaa7eb4c6daa0f02c9b000ff38",
       "version_major": 2,
       "version_minor": 0
      },
      "text/plain": [
       "  0%|          | 0/10 [00:00<?, ?it/s]"
      ]
     },
     "metadata": {},
     "output_type": "display_data"
    },
    {
     "name": "stdout",
     "output_type": "stream",
     "text": [
      "acc 0.9719169719169719\n",
      "auc 0.9794595873905705\n"
     ]
    }
   ],
   "source": [
    "import gzip\n",
    "\n",
    "with mlflow.start_run():\n",
    "    y = labels\n",
    "    k_fold = KFold(n_splits=10)\n",
    "    acc = 0\n",
    "    auc = 0\n",
    "\n",
    "    for index_train, index_test in tqdm(k_fold.split(X, y), total=k_fold.n_splits):\n",
    "        X_train = X[index_train]\n",
    "        y_train = y[index_train]\n",
    "\n",
    "        X_test = X[index_test]\n",
    "        y_test = y[index_test]\n",
    "\n",
    "        model.fit(X_train, y_train)\n",
    "\n",
    "        predictions_proba = model.predict_proba(X_test)\n",
    "        predictions = model.predict(X_test)\n",
    "        acc += accuracy_score(y_true=y_test, y_pred=predictions) * len(y_test)\n",
    "        auc += roc_auc_score(y_true=y_test, y_score=predictions_proba[:, 1]) * len(y_test)\n",
    "    \n",
    "    mlflow.log_metric(\"accuracy\", acc / len(y))\n",
    "    print(\"acc\", acc / len(y))\n",
    "    mlflow.log_metric(\"auc\", auc / len(y))\n",
    "    mlflow.log_params(model.get_params())\n",
    "    print(\"auc\", auc / len(y))\n",
    "# model = LogisticRegression(class_weight={1: 10, 0: 1})\n"
   ]
  },
  {
   "cell_type": "code",
   "execution_count": null,
   "metadata": {},
   "outputs": [],
   "source": [
    "model.fit(X, y)\n",
    "with gzip.open(model_path, \"wb\", compresslevel=9) as out:\n",
    "    pickle.dump(obj=model, file=out)"
   ]
  }
 ],
 "metadata": {
  "kernelspec": {
   "display_name": "Python 3 (ipykernel)",
   "language": "python",
   "name": "python3"
  },
  "language_info": {
   "codemirror_mode": {
    "name": "ipython",
    "version": 3
   },
   "file_extension": ".py",
   "mimetype": "text/x-python",
   "name": "python",
   "nbconvert_exporter": "python",
   "pygments_lexer": "ipython3",
   "version": "3.10.6"
  }
 },
 "nbformat": 4,
 "nbformat_minor": 1
}
