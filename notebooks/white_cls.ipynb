{
 "cells": [
  {
   "cell_type": "code",
   "execution_count": 1,
   "metadata": {
    "ExecuteTime": {
     "end_time": "2023-05-02T15:30:34.233501Z",
     "start_time": "2023-05-02T15:30:33.794108Z"
    }
   },
   "outputs": [],
   "source": [
    "\n",
    "import os\n",
    "import pickle\n",
    "\n",
    "from sklearn.model_selection import KFold\n",
    "from sklearn.metrics import roc_auc_score, accuracy_score\n",
    "from sklearn.pipeline import make_pipeline\n",
    "from sklearn.linear_model import LogisticRegression\n",
    "from sklearn.preprocessing import StandardScaler\n",
    "\n",
    "from color_corrector.image_features import image2features\n",
    "import json\n",
    "import numpy as np\n",
    "from PIL import Image\n",
    "from tqdm.notebook import tqdm"
   ]
  },
  {
   "cell_type": "code",
   "execution_count": 2,
   "metadata": {
    "ExecuteTime": {
     "end_time": "2023-05-02T15:30:34.241366Z",
     "start_time": "2023-05-02T15:30:34.236235Z"
    }
   },
   "outputs": [
    {
     "data": {
      "text/plain": [
       "'/home/padre/rojects/korrekturVonScans/resources/white_classifier.pkl.gz'"
      ]
     },
     "execution_count": 2,
     "metadata": {},
     "output_type": "execute_result"
    }
   ],
   "source": [
    "model_path = os.path.abspath(os.path.join(\".\", \"..\", \"resources\", \"white_classifier.pkl.gz\"))\n",
    "model_path"
   ]
  },
  {
   "cell_type": "code",
   "execution_count": 3,
   "metadata": {
    "ExecuteTime": {
     "end_time": "2023-05-02T15:30:34.290683Z",
     "start_time": "2023-05-02T15:30:34.241089Z"
    }
   },
   "outputs": [],
   "source": [
    "data_path = \"/home/padre/rojects/korrekturVonScans/datasets/color_corrections\"\n",
    "with open(os.path.join(data_path, \"labeled_tasks.json\")) as inp:\n",
    "    data: dict = json.load(inp)"
   ]
  },
  {
   "cell_type": "code",
   "execution_count": 4,
   "metadata": {
    "ExecuteTime": {
     "end_time": "2023-05-02T15:38:06.944586Z",
     "start_time": "2023-05-02T15:30:34.290511Z"
    }
   },
   "outputs": [
    {
     "data": {
      "application/vnd.jupyter.widget-view+json": {
       "model_id": "b89cfe7e0a0243b3bc0a61a13fbf39e3",
       "version_major": 2,
       "version_minor": 0
      },
      "text/plain": [
       "  0%|          | 0/8190 [00:00<?, ?it/s]"
      ]
     },
     "metadata": {},
     "output_type": "display_data"
    }
   ],
   "source": [
    "\n",
    "\n",
    "labels = []\n",
    "img_path = None\n",
    "\n",
    "X = None\n",
    "for i, value in enumerate(tqdm(sorted(data.values(), key=lambda v: v[\"original_image\"]))):\n",
    "    new_image_path = value[\"original_image\"]\n",
    "    if new_image_path != img_path:\n",
    "        img_path = new_image_path\n",
    "        image = Image.open(f\"{data_path}/{img_path}\")\n",
    "        img = image2features(image)\n",
    "    point_x = value[\"x\"]\n",
    "    point_y = value[\"y\"]\n",
    "    point = img[point_x, point_y, :]\n",
    "    if X is None:\n",
    "        X = np.empty((len(data), point.shape[0]))\n",
    "    X[i, :] = point\n",
    "    labels.append(value[\"labeled\"][0])\n",
    "\n",
    "X = np.array(X)\n",
    "labels = np.array(labels, dtype=object)"
   ]
  },
  {
   "cell_type": "code",
   "execution_count": 7,
   "metadata": {
    "ExecuteTime": {
     "end_time": "2023-05-02T15:38:06.958004Z",
     "start_time": "2023-05-02T15:38:06.949954Z"
    }
   },
   "outputs": [],
   "source": [
    "model = make_pipeline(StandardScaler(), LogisticRegression())"
   ]
  },
  {
   "cell_type": "code",
   "execution_count": 8,
   "metadata": {
    "ExecuteTime": {
     "end_time": "2023-05-02T15:38:07.755655Z",
     "start_time": "2023-05-02T15:38:06.955107Z"
    }
   },
   "outputs": [
    {
     "data": {
      "application/vnd.jupyter.widget-view+json": {
       "model_id": "fd8fa46a19f547a4bdd6d77a6cb5f51e",
       "version_major": 2,
       "version_minor": 0
      },
      "text/plain": [
       "  0%|          | 0/10 [00:00<?, ?it/s]"
      ]
     },
     "metadata": {},
     "output_type": "display_data"
    },
    {
     "name": "stdout",
     "output_type": "stream",
     "text": [
      "acc 0.9719169719169718\n",
      "auc 0.9794595873905706\n"
     ]
    }
   ],
   "source": [
    "import gzip\n",
    "\n",
    "y = labels\n",
    "k_fold = KFold(n_splits=10)\n",
    "acc = 0\n",
    "auc = 0\n",
    "\n",
    "for index_train, index_test in tqdm(k_fold.split(X, y), total=k_fold.n_splits):\n",
    "    X_train = X[index_train]\n",
    "    y_train = y[index_train]\n",
    "\n",
    "    X_test = X[index_test]\n",
    "    y_test = y[index_test]\n",
    "\n",
    "    model.fit(X_train, y_train)\n",
    "\n",
    "    predictions_proba = model.predict_proba(X_test)\n",
    "    predictions = model.predict(X_test)\n",
    "    acc += accuracy_score(y_true=y_test, y_pred=predictions)\n",
    "    auc += roc_auc_score(y_true=y_test, y_score=predictions_proba[:, 1])\n",
    "\n",
    "print(\"acc\", acc / k_fold.n_splits)\n",
    "print(\"auc\", auc / k_fold.n_splits)\n",
    "# model = LogisticRegression(class_weight={1: 10, 0: 1})\n",
    "model.fit(X, y)\n",
    "with gzip.open(model_path, \"wb\", compresslevel=9) as out:\n",
    "    pickle.dump(obj=model, file=out)"
   ]
  },
  {
   "cell_type": "code",
   "execution_count": null,
   "metadata": {
    "ExecuteTime": {
     "end_time": "2023-05-02T13:11:39.129667Z",
     "start_time": "2023-05-02T13:11:39.123400Z"
    }
   },
   "outputs": [],
   "source": [
    "\"\"\"\n",
    "acc 0.9720390720390719\n",
    "auc 0.9900852366367772\n",
    "\"\"\""
   ]
  },
  {
   "cell_type": "code",
   "execution_count": 66,
   "metadata": {
    "ExecuteTime": {
     "end_time": "2023-05-01T21:46:50.337990Z",
     "start_time": "2023-05-01T20:29:13.014937Z"
    }
   },
   "outputs": [
    {
     "data": {
      "application/vnd.jupyter.widget-view+json": {
       "model_id": "832271f4e5cb4f86b18a954a991ffbac",
       "version_major": 2,
       "version_minor": 0
      },
      "text/plain": [
       "  0%|          | 0/234 [00:00<?, ?it/s]"
      ]
     },
     "metadata": {},
     "output_type": "display_data"
    },
    {
     "name": "stderr",
     "output_type": "stream",
     "text": [
      "\n",
      "KeyboardInterrupt\n",
      "\n"
     ]
    }
   ],
   "source": [
    "from copy import deepcopy\n",
    "import os\n",
    "import shutil\n",
    "\n",
    "\n",
    "dir_path = \"/home/padre/rojects/korrekturVonScans/images/\"\n",
    "dir_path_out = \"/tmp/korrekturVonScans_images/\"\n",
    "dir_path_out_compare = \"/tmp/korrekturVonScans_images/compare/\"\n",
    "if os.path.isdir(dir_path_out):\n",
    "    shutil.rmtree(dir_path_out)\n",
    "os.makedirs(dir_path_out)\n",
    "os.makedirs(dir_path_out_compare)\n",
    "size_in = 0\n",
    "size_out = 0\n",
    "\n",
    "with open(\"/tmp/korrekturVonScans_images.log\", \"w\") as logfile:\n",
    "    for image_path in tqdm(sorted(os.listdir(dir_path))):\n",
    "        abs_path_in = dir_path + image_path\n",
    "        abs_path_out = dir_path_out + image_path\n",
    "        abs_path_out_compare = dir_path_out_compare + image_path\n",
    "        image = Image.open(abs_path_in)\n",
    "        image_array = np.array(image)\n",
    "        image_array_features = image2features(image)\n",
    "        h, w, c = image_array.shape\n",
    "        _, _, c_f = image_array_features.shape\n",
    "\n",
    "        image_array_flat = image_array_features.reshape(h * w, c_f)\n",
    "        predictions = model.predict(image_array_flat)\n",
    "\n",
    "        predictions = predictions.reshape(h, w)\n",
    "        # image_array[predictions == 0] = cv2.multiply(image_array[predictions == 0], 2)\n",
    "\n",
    "        array_copy = deepcopy(image_array)\n",
    "        if (predictions == 0).mean() > 0.5:\n",
    "            step = 10\n",
    "            width = 100\n",
    "            mean_prev = array_copy[predictions == 0].mean(axis=0)\n",
    "            mean = None\n",
    "            for col in range(0, h + step, step):\n",
    "                for row in range(0, w, step):\n",
    "                    left = max(0, col - width // 2)\n",
    "                    right = min(col + width // 2, h)\n",
    "                    top = max(0, row - width // 2)\n",
    "                    bottom = min(row + width // 2, w)\n",
    "                    window = array_copy[left: right, top: bottom, :]\n",
    "                    window_mask = (predictions[left: right, top: bottom] == 0)\n",
    "                    if window_mask.mean() > 0.20:\n",
    "                        mean = window[window_mask].mean(axis=0)\n",
    "                        mean_prev, mean = mean, (0.25 * mean_prev + 0.75 * mean)\n",
    "                    if mean is not None:\n",
    "                        print(f\"{col}: {col + step}, {row}: {row + step},\", file=logfile)\n",
    "                        window_small = image_array[col: col + step, row: row + step, :]\n",
    "                        fixed = (window_small * 255.0 / mean)\n",
    "                        fixed[fixed > 255] = 255\n",
    "                        fixed = fixed.astype(np.uint8)\n",
    "                        window_small[:, :, :] = fixed\n",
    "\n",
    "            image_array[image_array.max(axis=2) < 75] = 0\n",
    "        image_out = Image.fromarray(image_array)\n",
    "        image_out.save(abs_path_out)\n",
    "\n",
    "        image_compare = Image.fromarray(np.hstack([array_copy, image_array]))\n",
    "        image_compare.save(abs_path_out_compare)\n",
    "\n",
    "        size_in += os.stat(abs_path_in).st_size\n",
    "        size_out += os.stat(abs_path_out).st_size\n",
    "\n",
    "print(size_in, size_out)"
   ]
  },
  {
   "cell_type": "code",
   "execution_count": 33,
   "metadata": {
    "ExecuteTime": {
     "end_time": "2023-05-02T12:40:53.585630Z",
     "start_time": "2023-05-02T12:40:53.508043Z"
    }
   },
   "outputs": [
    {
     "data": {
      "text/plain": [
       "0.0026983987810779474"
      ]
     },
     "execution_count": 33,
     "metadata": {},
     "output_type": "execute_result"
    }
   ],
   "source": []
  },
  {
   "cell_type": "code",
   "execution_count": null,
   "metadata": {
    "ExecuteTime": {
     "end_time": "2023-05-01T19:13:07.554196Z",
     "start_time": "2023-05-01T19:13:07.508851Z"
    }
   },
   "outputs": [],
   "source": [
    "fixed =\n"
   ]
  },
  {
   "cell_type": "code",
   "execution_count": 73,
   "metadata": {
    "ExecuteTime": {
     "end_time": "2023-05-01T19:10:38.494212Z",
     "start_time": "2023-05-01T19:10:38.443395Z"
    }
   },
   "outputs": [],
   "source": []
  }
 ],
 "metadata": {
  "kernelspec": {
   "display_name": "Python 3 (ipykernel)",
   "language": "python",
   "name": "python3"
  },
  "language_info": {
   "codemirror_mode": {
    "name": "ipython",
    "version": 3
   },
   "file_extension": ".py",
   "mimetype": "text/x-python",
   "name": "python",
   "nbconvert_exporter": "python",
   "pygments_lexer": "ipython3",
   "version": "3.10.6"
  }
 },
 "nbformat": 4,
 "nbformat_minor": 1
}
